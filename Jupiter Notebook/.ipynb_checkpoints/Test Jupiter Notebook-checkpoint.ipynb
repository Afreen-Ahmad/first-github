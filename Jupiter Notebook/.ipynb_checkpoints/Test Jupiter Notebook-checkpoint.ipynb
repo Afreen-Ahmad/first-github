{
 "cells": [
  {
   "cell_type": "markdown",
   "id": "cbdf627f",
   "metadata": {},
   "source": [
    "# Asalaamu Aliekum My Name is Afreen\n",
    "## I'm learning datascientist with Dr Ammar tufail\n",
    "### Riht now we are learning python basics"
   ]
  },
  {
   "cell_type": "markdown",
   "id": "35cb9b4a",
   "metadata": {},
   "source": [
    "# Asalaamu Aliekum \n",
    "## this is the  first programme I've write \n",
    "### learning Datascientist with Dr tufail Ammar"
   ]
  },
  {
   "cell_type": "code",
   "execution_count": 5,
   "id": "83f6c028",
   "metadata": {},
   "outputs": [
    {
     "name": "stdout",
     "output_type": "stream",
     "text": [
      "Hello world\n"
     ]
    }
   ],
   "source": [
    "print(\"Hello world\")"
   ]
  },
  {
   "cell_type": "markdown",
   "id": "13087a3d",
   "metadata": {},
   "source": [
    "# This is the Basics of operators \n",
    "we have learned here \n",
    "## Arthematic operators\n",
    "## Assignment operators\n",
    "## Comparison operators"
   ]
  },
  {
   "cell_type": "code",
   "execution_count": null,
   "id": "9245e9a9",
   "metadata": {},
   "outputs": [],
   "source": [
    "# Arthemetic operaters  #examples +, -, *, /,   etc.\n",
    "#Assignment opertions: =, +=, -=  etc\n",
    "#Comparison operators: ==, <, <=, >, >=, != ec.\n",
    "#Logicl operators: and or  not\n",
    "                  #ArthemaTIC OPERaTIONS;\n",
    "#EXaMPLES\n",
    "a=23+2\n",
    "print(a)\n",
    "b= 22+22\n",
    "print(b)\n",
    "\n",
    "                        #aSSIGNMENt oPERaTORs\n",
    "# Assignment operaters: that operaters through which you can add value to variables\n",
    "#exmpl:\n",
    "\n",
    "\n",
    "# similarly we can use\"-='', and *= to sub. or multiple a variable\n",
    "                # comparison operators \n",
    "g=(23)\n",
    "g=(g>2) \n",
    "print(g)\n",
    "# so comparison operators are the operators which shows the function is true or false\n",
    "# other comparison operations are \"==, <,  >,  !=, \n",
    "# EXaMple \n",
    "A=55==55\n",
    "print(A)\n",
    "print(66<67)\n",
    "print(66>67)\n",
    "print(54<=53)\n",
    "print(54>=53)\n",
    "# QUESTION : write A python programme to find averge of two no.?\n",
    "#we know the AveAge is equAl to the sum of numbers divided by two..\n",
    "a= 45\n",
    "b=5\n",
    "avg=(a+b)/ 2   # we didn't get the aNswer ??\n",
    "#write a python to cAlculAte squre of number entered by the user?\n",
    "a= input(\"Enter Any number you  wAnt to get squaRE of:-\")\n",
    "a = int(a)\n",
    "print(a*a)"
   ]
  },
  {
   "cell_type": "code",
   "execution_count": null,
   "id": "f539a5ec",
   "metadata": {},
   "outputs": [],
   "source": []
  }
 ],
 "metadata": {
  "kernelspec": {
   "display_name": "Python 3 (ipykernel)",
   "language": "python",
   "name": "python3"
  },
  "language_info": {
   "codemirror_mode": {
    "name": "ipython",
    "version": 3
   },
   "file_extension": ".py",
   "mimetype": "text/x-python",
   "name": "python",
   "nbconvert_exporter": "python",
   "pygments_lexer": "ipython3",
   "version": "3.9.13"
  }
 },
 "nbformat": 4,
 "nbformat_minor": 5
}
