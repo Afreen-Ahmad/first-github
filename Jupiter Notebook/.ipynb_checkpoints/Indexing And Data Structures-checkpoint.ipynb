{
 "cells": [
  {
   "cell_type": "markdown",
   "id": "2c47ebce",
   "metadata": {},
   "source": [
    "# Indexing"
   ]
  },
  {
   "cell_type": "code",
   "execution_count": 9,
   "id": "a74e5d61",
   "metadata": {},
   "outputs": [
    {
     "data": {
      "text/plain": [
       "'gulikak, sulikaak'"
      ]
     },
     "execution_count": 9,
     "metadata": {},
     "output_type": "execute_result"
    }
   ],
   "source": [
    "a = 'gulikak, sulikaak'\n",
    "a"
   ]
  },
  {
   "cell_type": "code",
   "execution_count": 10,
   "id": "652bc0c9",
   "metadata": {},
   "outputs": [
    {
     "data": {
      "text/plain": [
       "'g'"
      ]
     },
     "execution_count": 10,
     "metadata": {},
     "output_type": "execute_result"
    }
   ],
   "source": [
    "a[0]"
   ]
  },
  {
   "cell_type": "code",
   "execution_count": 12,
   "id": "f74eb4bd",
   "metadata": {},
   "outputs": [
    {
     "data": {
      "text/plain": [
       "'gulikak'"
      ]
     },
     "execution_count": 12,
     "metadata": {},
     "output_type": "execute_result"
    }
   ],
   "source": [
    "a[0:7]# if you want to print gulikak only 0 to 7 becuase it prints n-1 value\n",
    "\n"
   ]
  },
  {
   "cell_type": "code",
   "execution_count": 13,
   "id": "7c8b4ec5",
   "metadata": {},
   "outputs": [
    {
     "data": {
      "text/plain": [
       "17"
      ]
     },
     "execution_count": 13,
     "metadata": {},
     "output_type": "execute_result"
    }
   ],
   "source": [
    "len(a)\n",
    "\n"
   ]
  },
  {
   "cell_type": "code",
   "execution_count": 14,
   "id": "b97b961f",
   "metadata": {},
   "outputs": [
    {
     "data": {
      "text/plain": [
       "'gulikak, sulikaak'"
      ]
     },
     "execution_count": 14,
     "metadata": {},
     "output_type": "execute_result"
    }
   ],
   "source": [
    "a[0:18]"
   ]
  },
  {
   "cell_type": "code",
   "execution_count": 21,
   "id": "dd582dfc",
   "metadata": {},
   "outputs": [
    {
     "data": {
      "text/plain": [
       "'Gulikak, sulikaak'"
      ]
     },
     "execution_count": 21,
     "metadata": {},
     "output_type": "execute_result"
    }
   ],
   "source": [
    "a.capitalize()"
   ]
  },
  {
   "cell_type": "code",
   "execution_count": 22,
   "id": "f55f8c92",
   "metadata": {},
   "outputs": [
    {
     "data": {
      "text/plain": [
       "'GULIKAK, SULIKAAK'"
      ]
     },
     "execution_count": 22,
     "metadata": {},
     "output_type": "execute_result"
    }
   ],
   "source": [
    "a.upper()"
   ]
  },
  {
   "cell_type": "code",
   "execution_count": 23,
   "id": "ced9bd51",
   "metadata": {},
   "outputs": [
    {
     "data": {
      "text/plain": [
       "'gulikak, sulikaak'"
      ]
     },
     "execution_count": 23,
     "metadata": {},
     "output_type": "execute_result"
    }
   ],
   "source": [
    "a.lower()"
   ]
  },
  {
   "cell_type": "code",
   "execution_count": 24,
   "id": "3399fb30",
   "metadata": {},
   "outputs": [
    {
     "data": {
      "text/plain": [
       "'gulikaaka sulikaakas kar aalaw, sulikaak'"
      ]
     },
     "execution_count": 24,
     "metadata": {},
     "output_type": "execute_result"
    }
   ],
   "source": [
    "a.replace('gulikak', 'gulikaaka sulikaakas kar aalaw')"
   ]
  },
  {
   "cell_type": "code",
   "execution_count": 25,
   "id": "f4c15498",
   "metadata": {},
   "outputs": [
    {
     "data": {
      "text/plain": [
       "4"
      ]
     },
     "execution_count": 25,
     "metadata": {},
     "output_type": "execute_result"
    }
   ],
   "source": [
    "a.count('k')\n"
   ]
  },
  {
   "cell_type": "markdown",
   "id": "263710b4",
   "metadata": {},
   "source": [
    "# Basic Data structures In Python.\n"
   ]
  },
  {
   "cell_type": "markdown",
   "id": "e9035236",
   "metadata": {},
   "source": [
    "#                    List."
   ]
  },
  {
   "cell_type": "code",
   "execution_count": 1,
   "id": "66952ddf",
   "metadata": {},
   "outputs": [],
   "source": [
    "# Python lists are container's\n",
    "#  A set of values of any data type.\n",
    "# List can be creating by using []."
   ]
  },
  {
   "cell_type": "code",
   "execution_count": 6,
   "id": "d2fc4c79",
   "metadata": {},
   "outputs": [
    {
     "data": {
      "text/plain": [
       "1"
      ]
     },
     "execution_count": 6,
     "metadata": {},
     "output_type": "execute_result"
    }
   ],
   "source": [
    "a = [1,2,3,4,5,6,7,8,9,]\n",
    " # we can access any element of list As.\n",
    "\n",
    "(a[0])\n"
   ]
  },
  {
   "cell_type": "code",
   "execution_count": 7,
   "id": "c31aed1e",
   "metadata": {},
   "outputs": [
    {
     "data": {
      "text/plain": [
       "[1, 2, 3, 4, 5, 6, 7, 8, 9]"
      ]
     },
     "execution_count": 7,
     "metadata": {},
     "output_type": "execute_result"
    }
   ],
   "source": [
    "(a[0:9])"
   ]
  },
  {
   "cell_type": "code",
   "execution_count": 8,
   "id": "b6774ca7",
   "metadata": {},
   "outputs": [
    {
     "data": {
      "text/plain": [
       "[1, 2, 3]"
      ]
     },
     "execution_count": 8,
     "metadata": {},
     "output_type": "execute_result"
    }
   ],
   "source": [
    "(a[ :3])"
   ]
  },
  {
   "cell_type": "code",
   "execution_count": 9,
   "id": "dede0d85",
   "metadata": {},
   "outputs": [
    {
     "data": {
      "text/plain": [
       "9"
      ]
     },
     "execution_count": 9,
     "metadata": {},
     "output_type": "execute_result"
    }
   ],
   "source": [
    "(a[-1])"
   ]
  },
  {
   "cell_type": "code",
   "execution_count": 10,
   "id": "02b89988",
   "metadata": {},
   "outputs": [
    {
     "data": {
      "text/plain": [
       "9"
      ]
     },
     "execution_count": 10,
     "metadata": {},
     "output_type": "execute_result"
    }
   ],
   "source": [
    "(len(a))"
   ]
  },
  {
   "cell_type": "markdown",
   "id": "4f058956",
   "metadata": {},
   "source": [
    "#### Now we are going to learn some mehtods of list"
   ]
  },
  {
   "cell_type": "code",
   "execution_count": 16,
   "id": "325caf9a",
   "metadata": {},
   "outputs": [
    {
     "data": {
      "text/plain": [
       "[1, 2, 3, 4, 5, 5, 6, 6, 7, 9]"
      ]
     },
     "execution_count": 16,
     "metadata": {},
     "output_type": "execute_result"
    }
   ],
   "source": [
    "# sorting the list ( in assending order)\n",
    "a=[1,2,5,3,4,9,5,6,6,7,]\n",
    "a.sort()\n",
    "a"
   ]
  },
  {
   "cell_type": "code",
   "execution_count": 17,
   "id": "f5b28e04",
   "metadata": {},
   "outputs": [
    {
     "data": {
      "text/plain": [
       "[9, 7, 6, 6, 5, 5, 4, 3, 2, 1]"
      ]
     },
     "execution_count": 17,
     "metadata": {},
     "output_type": "execute_result"
    }
   ],
   "source": [
    "#we can reverse the list by using (list.reverse) attribute\n",
    "a.reverse()\n",
    "a"
   ]
  },
  {
   "cell_type": "code",
   "execution_count": 21,
   "id": "300712be",
   "metadata": {},
   "outputs": [
    {
     "data": {
      "text/plain": [
       "[9, 7, 6, 6, 5, 5, 4, 3, 2, 1, 10, 101, 11]"
      ]
     },
     "execution_count": 21,
     "metadata": {},
     "output_type": "execute_result"
    }
   ],
   "source": [
    "  # Now we are going to learn an important attribute through which we add the elments to the list\n",
    "a.append(101)\n",
    "a.append(11)\n",
    "a"
   ]
  },
  {
   "cell_type": "code",
   "execution_count": 23,
   "id": "043fbf50",
   "metadata": {},
   "outputs": [
    {
     "data": {
      "text/plain": [
       "[9, 7, 6, 6, 5, 5, 4, 55, 3, 2, 1, 10, 101, 11]"
      ]
     },
     "execution_count": 23,
     "metadata": {},
     "output_type": "execute_result"
    }
   ],
   "source": [
    " # we can change the element of an list by using insert attritbute\n",
    "a.insert(7,55)\n",
    "a # remember it doesn't change the value it changes the index"
   ]
  },
  {
   "cell_type": "code",
   "execution_count": 25,
   "id": "3e08776f",
   "metadata": {},
   "outputs": [
    {
     "data": {
      "text/plain": [
       "[9, 7, 6, 6, 5, 5, 4, 3, 2, 1, 10, 101, 11]"
      ]
     },
     "execution_count": 25,
     "metadata": {},
     "output_type": "execute_result"
    }
   ],
   "source": [
    "# if you want to delete the element of list you can use list.pop()\n",
    "a.pop(7)\n",
    "a     # remember it doesn't change the value it changes the index"
   ]
  },
  {
   "cell_type": "code",
   "execution_count": 26,
   "id": "451fd977",
   "metadata": {},
   "outputs": [
    {
     "data": {
      "text/plain": [
       "[9, 7, 6, 6, 5, 5, 4, 3, 2, 1, 10, 11]"
      ]
     },
     "execution_count": 26,
     "metadata": {},
     "output_type": "execute_result"
    }
   ],
   "source": [
    " # If you want to deleate the value directily then use remove attribute\n",
    "a.remove(101)\n",
    "a"
   ]
  },
  {
   "cell_type": "code",
   "execution_count": null,
   "id": "80b33c5b",
   "metadata": {},
   "outputs": [],
   "source": [
    "#PRACTICE SET OF LISTS AND TUPLES\n",
    "f1=input(\"Enter fruit no. 1\")\n",
    "f2=input(\"Enter fruit no. 2\")\n",
    "f3=input(\"Enter fruit no. 3\")\n",
    "f4=input(\"Enter fruit no. 4\")\n",
    "f5=input(\"Enter fruit no. 5\")\n",
    "f6=input(\"Enter fruit no. 6\")\n",
    "f7=input(\"Enter fruit no. 7\")\n",
    "list=[f1,f2,f3,f4,f5,f6,f7,]\n",
    "print(list)\n",
    "#question no 2\n",
    "m1=int(input(\"enter you marks Sno. 1\"))\n",
    "m2=int(input(\"enter you marks Sno. 2\"))\n",
    "m3=int(input(\"enter you marks Sno. 3\"))\n",
    "m4=int(input(\"enter you marks Sno. 4\"))\n",
    "m5=int(input(\"enter you marks Sno. 5\"))\n",
    "m6=int(input(\"enter you marks Sno. 6\"))\n",
    "listofmarksofstudens=[m1,m2,m3,m4,m5,m6]\n",
    "listofmarksofstudens.sort()\n",
    "print(listofmarksofstudens)"
   ]
  },
  {
   "cell_type": "code",
   "execution_count": 18,
   "id": "1fdfba78",
   "metadata": {},
   "outputs": [
    {
     "data": {
      "text/plain": [
       "['Ture ', 22, 33, 55, 'false ', 33, 'False ', 99, 77, 66, 88, 'true', 99]"
      ]
     },
     "execution_count": 18,
     "metadata": {},
     "output_type": "execute_result"
    }
   ],
   "source": [
    " # we can also sum up two lists\n",
    "a=[\"Ture \", 22,33,55, 'false ',33]\n",
    "b=['False ', 99,77,66,88, 'true', 99]\n",
    "a+b"
   ]
  },
  {
   "cell_type": "code",
   "execution_count": null,
   "id": "2ffdcb6b",
   "metadata": {},
   "outputs": [],
   "source": []
  },
  {
   "cell_type": "markdown",
   "id": "af0ed770",
   "metadata": {},
   "source": [
    "#                        Tuple\n",
    "##          Tuple is an imutable(unchangable) data tupe in python\n",
    "###    In Tuples we are going to learn two important methods.\n",
    "1.   count method.(through which we can count the elements in tuple)\n",
    "2.   Index method. (By this method we \n",
    "##### Ordered collection of elements are tuples\n",
    "#####  Enclosed in ( )  round braces/paranthesis\n",
    "##### Different kind of elements can be stored \n",
    "#### Once element are stored you can't change them .As  tuples are unmutable "
   ]
  },
  {
   "cell_type": "code",
   "execution_count": 7,
   "id": "133706ec",
   "metadata": {},
   "outputs": [
    {
     "name": "stdout",
     "output_type": "stream",
     "text": [
      "10\n",
      "9\n",
      "86\n",
      "3\n"
     ]
    }
   ],
   "source": [
    "#TUPLES is an immutable datatype(we cant change any thing in tuple)\n",
    "# there are just two important methods used in the tuple\n",
    "# the first one  is count\n",
    "a=(1,2,3,4,4,4,4,4,4,5,4,4,4,5,4,5,6,)\n",
    "print(a.count(4))#we can find how many times a particuler element is used\n",
    "print(a.index(5))#this used to find the index of particuler value\n",
    "\n",
    "#question no 3\n",
    "\n",
    "\n",
    "#question no. 4\n",
    "a=(3,5,66,3,6,3)\n",
    "print(a[0] +a[1] +a[2] +a[4] +a[5] +a[3])\n",
    "# #o\n",
    "#print(sum(a))\n",
    "#qurstion no 5\n",
    "a=(7,0,8,0,0,9)\n",
    "a=a.count(0)\n",
    "print(a)"
   ]
  },
  {
   "cell_type": "code",
   "execution_count": 11,
   "id": "8213e560",
   "metadata": {},
   "outputs": [
    {
     "data": {
      "text/plain": [
       "(9, 8, 'Afreen', 99, 27)"
      ]
     },
     "execution_count": 11,
     "metadata": {},
     "output_type": "execute_result"
    }
   ],
   "source": [
    "# indexing of tuples \n",
    " a=(9,8, \"Afreen\", 99,27,22)\n",
    "a[ :5]\n"
   ]
  },
  {
   "cell_type": "code",
   "execution_count": 12,
   "id": "921f125a",
   "metadata": {},
   "outputs": [
    {
     "data": {
      "text/plain": [
       "6"
      ]
     },
     "execution_count": 12,
     "metadata": {},
     "output_type": "execute_result"
    }
   ],
   "source": [
    "#length of tuples\n",
    "len(a)"
   ]
  },
  {
   "cell_type": "code",
   "execution_count": 15,
   "id": "a89c9986",
   "metadata": {},
   "outputs": [
    {
     "data": {
      "text/plain": [
       "12"
      ]
     },
     "execution_count": 15,
     "metadata": {},
     "output_type": "execute_result"
    }
   ],
   "source": [
    "# we can also know the min. or max. value of tuple\n",
    "a=(23,33,54,55,44,34,63,12,44)\n",
    "min(a)\n"
   ]
  },
  {
   "cell_type": "code",
   "execution_count": 16,
   "id": "98cf501e",
   "metadata": {},
   "outputs": [
    {
     "data": {
      "text/plain": [
       "63"
      ]
     },
     "execution_count": 16,
     "metadata": {},
     "output_type": "execute_result"
    }
   ],
   "source": [
    "max(a)"
   ]
  },
  {
   "cell_type": "code",
   "execution_count": 17,
   "id": "c0cd4f8b",
   "metadata": {},
   "outputs": [
    {
     "data": {
      "text/plain": [
       "(23, 33, 54, 55, 44, 34, 63, 12, 44, 23, 33, 54, 55, 44, 34, 63, 12, 44)"
      ]
     },
     "execution_count": 17,
     "metadata": {},
     "output_type": "execute_result"
    }
   ],
   "source": [
    " # Also we can write tuple multiple times by just multiplying the to the tuple\n",
    "    \n",
    "a*2\n"
   ]
  },
  {
   "cell_type": "code",
   "execution_count": null,
   "id": "6bf9a9f3",
   "metadata": {},
   "outputs": [],
   "source": [
    "# Also we can add two or more than two tuples which is called(Concatinate)"
   ]
  }
 ],
 "metadata": {
  "kernelspec": {
   "display_name": "Python 3 (ipykernel)",
   "language": "python",
   "name": "python3"
  },
  "language_info": {
   "codemirror_mode": {
    "name": "ipython",
    "version": 3
   },
   "file_extension": ".py",
   "mimetype": "text/x-python",
   "name": "python",
   "nbconvert_exporter": "python",
   "pygments_lexer": "ipython3",
   "version": "3.9.13"
  }
 },
 "nbformat": 4,
 "nbformat_minor": 5
}
