{
 "cells": [
  {
   "cell_type": "markdown",
   "id": "f7493c35",
   "metadata": {},
   "source": [
    "# BODY MASS INDEX"
   ]
  },
  {
   "cell_type": "code",
   "execution_count": null,
   "id": "ffcf1209",
   "metadata": {},
   "outputs": [],
   "source": [
    "\n",
    "\n",
    "# body mass index(BMI)    # BMI(ask your self your height) , weight\n",
    "# using input  #weight    # Calculate BMI \n",
    "# Height                  # Print BMI   "
   ]
  },
  {
   "cell_type": "code",
   "execution_count": 2,
   "id": "74570ea8",
   "metadata": {},
   "outputs": [
    {
     "name": "stdout",
     "output_type": "stream",
     "text": [
      "Enter your body weight: 58.7\n",
      "Enter your height: 1.69\n",
      "What is your name: AfreeN\n",
      "my name is  AfreeN and my BMI 20.552501663107037\n"
     ]
    }
   ],
   "source": [
    "a=(input(\"Enter your body weight: \"))\n",
    "a=float(a)        #type casting\n",
    "b=(input(\"Enter your height: \"))\n",
    "b=float(b)        #by type casting\n",
    "name= input(\"What is your name: \")\n",
    "d=a/b**2 #formulla of BMI\n",
    "print(\"my name is \",name,\"and my BMI\",d )"
   ]
  },
  {
   "cell_type": "code",
   "execution_count": 1,
   "id": "cb43424e",
   "metadata": {},
   "outputs": [
    {
     "name": "stdout",
     "output_type": "stream",
     "text": [
      "Asalaamu Aliekum How are you . \n"
     ]
    }
   ],
   "source": [
    "print(\"Asalaamu Aliekum How are you . \")\n"
   ]
  },
  {
   "cell_type": "code",
   "execution_count": null,
   "id": "db0079b8",
   "metadata": {},
   "outputs": [],
   "source": []
  },
  {
   "cell_type": "code",
   "execution_count": null,
   "id": "01c6cf8c",
   "metadata": {},
   "outputs": [],
   "source": []
  },
  {
   "cell_type": "code",
   "execution_count": null,
   "id": "4eae9590",
   "metadata": {},
   "outputs": [],
   "source": []
  },
  {
   "cell_type": "code",
   "execution_count": null,
   "id": "1bc3b7f9",
   "metadata": {},
   "outputs": [],
   "source": []
  },
  {
   "cell_type": "code",
   "execution_count": null,
   "id": "fca7ca2a",
   "metadata": {},
   "outputs": [],
   "source": []
  },
  {
   "cell_type": "code",
   "execution_count": null,
   "id": "8faf0dae",
   "metadata": {},
   "outputs": [],
   "source": []
  },
  {
   "cell_type": "code",
   "execution_count": null,
   "id": "1df9a6b1",
   "metadata": {},
   "outputs": [],
   "source": []
  }
 ],
 "metadata": {
  "kernelspec": {
   "display_name": "Python 3 (ipykernel)",
   "language": "python",
   "name": "python3"
  },
  "language_info": {
   "codemirror_mode": {
    "name": "ipython",
    "version": 3
   },
   "file_extension": ".py",
   "mimetype": "text/x-python",
   "name": "python",
   "nbconvert_exporter": "python",
   "pygments_lexer": "ipython3",
   "version": "3.9.13"
  }
 },
 "nbformat": 4,
 "nbformat_minor": 5
}
